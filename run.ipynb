{
 "cells": [
  {
   "cell_type": "code",
   "execution_count": 1,
   "metadata": {},
   "outputs": [],
   "source": [
    "%load_ext autoreload"
   ]
  },
  {
   "cell_type": "code",
   "execution_count": 2,
   "metadata": {},
   "outputs": [],
   "source": [
    "%autoreload 2"
   ]
  },
  {
   "cell_type": "code",
   "execution_count": 3,
   "metadata": {},
   "outputs": [
    {
     "name": "stdout",
     "output_type": "stream",
     "text": [
      "cpu\n",
      "cpu\n",
      "PolicyNetwork(\n",
      "  (linear1): Linear(in_features=19, out_features=128, bias=True)\n",
      "  (linear2): Linear(in_features=128, out_features=128, bias=True)\n",
      "  (mean_linear): Linear(in_features=128, out_features=1, bias=True)\n",
      "  (log_std): AddBias()\n",
      ") ValueNetwork(\n",
      "  (linear1): Linear(in_features=19, out_features=128, bias=True)\n",
      "  (linear4): Linear(in_features=128, out_features=1, bias=True)\n",
      ")\n",
      "Soft Q Network (1,2):  SoftQNetwork(\n",
      "  (linear1): Linear(in_features=20, out_features=128, bias=True)\n",
      "  (linear2): Linear(in_features=128, out_features=128, bias=True)\n",
      "  (linear4): Linear(in_features=128, out_features=16, bias=True)\n",
      ")\n",
      "Policy Network:  PolicyNetwork(\n",
      "  (linear1): Linear(in_features=20, out_features=128, bias=True)\n",
      "  (linear2): Linear(in_features=128, out_features=128, bias=True)\n",
      "  (output): Linear(in_features=128, out_features=16, bias=True)\n",
      ")\n",
      "cpu\n",
      "tensor([[0.0000e+00, 0.0000e+00, 1.0000e+00, 0.0000e+00, 0.0000e+00, 0.0000e+00,\n",
      "         0.0000e+00, 0.0000e+00, 0.0000e+00, 0.0000e+00, 0.0000e+00, 0.0000e+00,\n",
      "         0.0000e+00, 0.0000e+00, 0.0000e+00, 0.0000e+00, 5.5181e+06, 9.1434e+08,\n",
      "         4.4849e+00]])\n"
     ]
    },
    {
     "ename": "TypeError",
     "evalue": "only integer scalar arrays can be converted to a scalar index",
     "output_type": "error",
     "traceback": [
      "\u001b[1;31m---------------------------------------------------------------------------\u001b[0m",
      "\u001b[1;31mTypeError\u001b[0m                                 Traceback (most recent call last)",
      "File \u001b[1;32m~\\Desktop\\newproject\\Popular-RL-Algorithms\\my_integrated_model.py:56\u001b[0m\n\u001b[0;32m     52\u001b[0m \u001b[38;5;28;01mfor\u001b[39;00m step \u001b[38;5;129;01min\u001b[39;00m \u001b[38;5;28mrange\u001b[39m(params\u001b[38;5;241m.\u001b[39mSTEP):\n\u001b[0;32m     53\u001b[0m     \u001b[38;5;66;03m#state1: task info만 담겨있음\u001b[39;00m\n\u001b[0;32m     54\u001b[0m     \u001b[38;5;66;03m#ppo에서 server info 바탕으로 attention distribution 만든거랑 task info 합쳐서 encoded_state로 리턴 (이게 곧 real state)\u001b[39;00m\n\u001b[0;32m     55\u001b[0m     encoded_state1, action1 \u001b[38;5;241m=\u001b[39m ppo\u001b[38;5;241m.\u001b[39mchoose_action(state1) \u001b[38;5;66;03m# ppo로 offloading fraction 만들기\u001b[39;00m\n\u001b[1;32m---> 56\u001b[0m     state2 \u001b[38;5;241m=\u001b[39m \u001b[43mnp\u001b[49m\u001b[38;5;241;43m.\u001b[39;49m\u001b[43mconcatenate\u001b[49m\u001b[43m(\u001b[49m\u001b[43mencoded_state1\u001b[49m\u001b[38;5;241;43m.\u001b[39;49m\u001b[43mnumpy\u001b[49m\u001b[43m(\u001b[49m\u001b[43m)\u001b[49m\u001b[43m,\u001b[49m\u001b[43m \u001b[49m\u001b[43maction1\u001b[49m\u001b[43m)\u001b[49m \u001b[38;5;66;03m# offloading fraction + state1의 concat\u001b[39;00m\n\u001b[0;32m     57\u001b[0m     params\u001b[38;5;241m.\u001b[39mstate2 \u001b[38;5;241m=\u001b[39m state2\n\u001b[0;32m     59\u001b[0m     action2 \u001b[38;5;241m=\u001b[39m sac_trainer\u001b[38;5;241m.\u001b[39mpolicy_net\u001b[38;5;241m.\u001b[39mget_action(state2, deterministic \u001b[38;5;241m=\u001b[39m \u001b[38;5;28;01mFalse\u001b[39;00m) \u001b[38;5;66;03m# state2로 sac output (offloading decision) 만들기\u001b[39;00m\n",
      "\u001b[1;31mTypeError\u001b[0m: only integer scalar arrays can be converted to a scalar index"
     ]
    }
   ],
   "source": [
    "run my_integrated_model.py --train"
   ]
  }
 ],
 "metadata": {
  "language_info": {
   "name": "python"
  }
 },
 "nbformat": 4,
 "nbformat_minor": 2
}
